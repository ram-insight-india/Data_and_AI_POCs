{
 "cells": [
  {
   "cell_type": "markdown",
   "metadata": {},
   "source": [
    "# Download Latest Immigration Enforcement Data\n",
    "This notebook scrapes the DHS OHSS monthly immigration enforcement data page, finds the latest dataset, and reads it into a pandas DataFrame."
   ]
  },
  {
   "cell_type": "code",
   "execution_count": 1,
   "metadata": {},
   "outputs": [
    {
     "name": "stdout",
     "output_type": "stream",
     "text": [
      "Requirement already satisfied: selenium in c:\\users\\v-ksjaiswal\\appdata\\local\\programs\\python\\python313\\lib\\site-packages (4.33.0)\n",
      "Requirement already satisfied: beautifulsoup4 in c:\\users\\v-ksjaiswal\\appdata\\local\\programs\\python\\python313\\lib\\site-packages (4.13.4)\n",
      "Requirement already satisfied: pandas in c:\\users\\v-ksjaiswal\\appdata\\local\\programs\\python\\python313\\lib\\site-packages (2.3.0)\n",
      "Requirement already satisfied: requests in c:\\users\\v-ksjaiswal\\appdata\\local\\programs\\python\\python313\\lib\\site-packages (2.32.3)\n",
      "Requirement already satisfied: openpyxl in c:\\users\\v-ksjaiswal\\appdata\\local\\programs\\python\\python313\\lib\\site-packages (3.1.5)\n",
      "Requirement already satisfied: urllib3~=2.4.0 in c:\\users\\v-ksjaiswal\\appdata\\local\\programs\\python\\python313\\lib\\site-packages (from urllib3[socks]~=2.4.0->selenium) (2.4.0)\n",
      "Requirement already satisfied: trio~=0.30.0 in c:\\users\\v-ksjaiswal\\appdata\\local\\programs\\python\\python313\\lib\\site-packages (from selenium) (0.30.0)\n",
      "Requirement already satisfied: trio-websocket~=0.12.2 in c:\\users\\v-ksjaiswal\\appdata\\local\\programs\\python\\python313\\lib\\site-packages (from selenium) (0.12.2)\n",
      "Requirement already satisfied: certifi>=2025.4.26 in c:\\users\\v-ksjaiswal\\appdata\\local\\programs\\python\\python313\\lib\\site-packages (from selenium) (2025.4.26)\n",
      "Requirement already satisfied: typing_extensions~=4.13.2 in c:\\users\\v-ksjaiswal\\appdata\\local\\programs\\python\\python313\\lib\\site-packages (from selenium) (4.13.2)\n",
      "Requirement already satisfied: websocket-client~=1.8.0 in c:\\users\\v-ksjaiswal\\appdata\\local\\programs\\python\\python313\\lib\\site-packages (from selenium) (1.8.0)\n",
      "Requirement already satisfied: attrs>=23.2.0 in c:\\users\\v-ksjaiswal\\appdata\\local\\programs\\python\\python313\\lib\\site-packages (from trio~=0.30.0->selenium) (25.3.0)\n",
      "Requirement already satisfied: sortedcontainers in c:\\users\\v-ksjaiswal\\appdata\\local\\programs\\python\\python313\\lib\\site-packages (from trio~=0.30.0->selenium) (2.4.0)\n",
      "Requirement already satisfied: idna in c:\\users\\v-ksjaiswal\\appdata\\local\\programs\\python\\python313\\lib\\site-packages (from trio~=0.30.0->selenium) (3.10)\n",
      "Requirement already satisfied: outcome in c:\\users\\v-ksjaiswal\\appdata\\local\\programs\\python\\python313\\lib\\site-packages (from trio~=0.30.0->selenium) (1.3.0.post0)\n",
      "Requirement already satisfied: sniffio>=1.3.0 in c:\\users\\v-ksjaiswal\\appdata\\local\\programs\\python\\python313\\lib\\site-packages (from trio~=0.30.0->selenium) (1.3.1)\n",
      "Requirement already satisfied: cffi>=1.14 in c:\\users\\v-ksjaiswal\\appdata\\local\\programs\\python\\python313\\lib\\site-packages (from trio~=0.30.0->selenium) (1.17.1)\n",
      "Requirement already satisfied: wsproto>=0.14 in c:\\users\\v-ksjaiswal\\appdata\\local\\programs\\python\\python313\\lib\\site-packages (from trio-websocket~=0.12.2->selenium) (1.2.0)\n",
      "Requirement already satisfied: pysocks!=1.5.7,<2.0,>=1.5.6 in c:\\users\\v-ksjaiswal\\appdata\\local\\programs\\python\\python313\\lib\\site-packages (from urllib3[socks]~=2.4.0->selenium) (1.7.1)\n",
      "Requirement already satisfied: soupsieve>1.2 in c:\\users\\v-ksjaiswal\\appdata\\local\\programs\\python\\python313\\lib\\site-packages (from beautifulsoup4) (2.7)\n",
      "Requirement already satisfied: numpy>=1.26.0 in c:\\users\\v-ksjaiswal\\appdata\\local\\programs\\python\\python313\\lib\\site-packages (from pandas) (2.3.0)\n",
      "Requirement already satisfied: python-dateutil>=2.8.2 in c:\\users\\v-ksjaiswal\\appdata\\roaming\\python\\python313\\site-packages (from pandas) (2.9.0.post0)\n",
      "Requirement already satisfied: pytz>=2020.1 in c:\\users\\v-ksjaiswal\\appdata\\local\\programs\\python\\python313\\lib\\site-packages (from pandas) (2025.2)\n",
      "Requirement already satisfied: tzdata>=2022.7 in c:\\users\\v-ksjaiswal\\appdata\\local\\programs\\python\\python313\\lib\\site-packages (from pandas) (2025.2)\n",
      "Requirement already satisfied: charset-normalizer<4,>=2 in c:\\users\\v-ksjaiswal\\appdata\\local\\programs\\python\\python313\\lib\\site-packages (from requests) (3.4.2)\n",
      "Requirement already satisfied: et-xmlfile in c:\\users\\v-ksjaiswal\\appdata\\local\\programs\\python\\python313\\lib\\site-packages (from openpyxl) (2.0.0)\n",
      "Requirement already satisfied: pycparser in c:\\users\\v-ksjaiswal\\appdata\\local\\programs\\python\\python313\\lib\\site-packages (from cffi>=1.14->trio~=0.30.0->selenium) (2.22)\n",
      "Requirement already satisfied: six>=1.5 in c:\\users\\v-ksjaiswal\\appdata\\roaming\\python\\python313\\site-packages (from python-dateutil>=2.8.2->pandas) (1.17.0)\n",
      "Requirement already satisfied: h11<1,>=0.9.0 in c:\\users\\v-ksjaiswal\\appdata\\local\\programs\\python\\python313\\lib\\site-packages (from wsproto>=0.14->trio-websocket~=0.12.2->selenium) (0.16.0)\n"
     ]
    }
   ],
   "source": [
    "!python -m pip install selenium beautifulsoup4 pandas requests openpyxl"
   ]
  },
  {
   "cell_type": "code",
   "execution_count": 2,
   "metadata": {},
   "outputs": [],
   "source": [
    "from selenium import webdriver\n",
    "from selenium.webdriver.chrome.options import Options\n",
    "from selenium.webdriver.common.by import By\n",
    "from bs4 import BeautifulSoup\n",
    "import pandas as pd\n",
    "import requests\n",
    "import time\n",
    "import re\n",
    "import os\n",
    "\n",
    "# These libraries are for:\n",
    "\n",
    "# selenium: controls the web browser to open the page and scroll\n",
    "# BeautifulSoup: parses the HTML content\n",
    "# pandas: handles reading Excel or CSV files\n",
    "# requests: downloads files from the internet\n",
    "# time: adds delays (waiting for page to load)\n",
    "# re: regular expressions to match dates or file types"
   ]
  },
  {
   "cell_type": "code",
   "execution_count": 3,
   "metadata": {},
   "outputs": [],
   "source": [
    "# Setup headless Chrome\n",
    "# Headless mode allows automation without opening the Chrome UI.\n",
    "# --no-sandbox and --disable-dev-shm-usage are stability options often used in cloud environments or VMs.\n",
    "options = Options()\n",
    "options.add_argument('--headless')\n",
    "options.add_argument('--no-sandbox')\n",
    "options.add_argument('--disable-dev-shm-usage')\n",
    "\n",
    "#This opens the target web page using the Chrome browser driver.\n",
    "driver = webdriver.Chrome(options=options)\n",
    "url = \"https://ohss.dhs.gov/topics/immigration/immigration-enforcement/monthly-tables\"\n",
    "driver.get(url)\n",
    "\n",
    "# Wait and scroll\n",
    "#Many websites only load full content when the user scrolls.\n",
    "#We simulate this with JavaScript: window.scrollTo(...).\n",
    "time.sleep(5)\n",
    "driver.execute_script(\"window.scrollTo(0, document.body.scrollHeight);\")\n",
    "time.sleep(5)\n",
    "\n",
    "# driver.page_source grabs the current HTML of the page.\n",
    "# soup now holds a searchable tree of all HTML elements.\n",
    "# driver.quit() closes the browser.\n",
    "soup = BeautifulSoup(driver.page_source, 'html.parser')\n",
    "driver.quit()"
   ]
  },
  {
   "cell_type": "code",
   "execution_count": 4,
   "metadata": {},
   "outputs": [
    {
     "name": "stdout",
     "output_type": "stream",
     "text": [
      "Latest file URL: https://ohss.dhs.gov/sites/default/files/2025-01/2025_0116_ohss_immigration-enforcement-and-legal-processes-tables-november-2024.xlsx\n"
     ]
    }
   ],
   "source": [
    "# Extract file links\n",
    "#This grabs every <a> HTML element (hyperlink) that has an href attribute.\n",
    "download_section = soup.find_all('a', href=True)\n",
    "\n",
    "#Filters links that point to .xlsx, .xls, or .csv files.\n",
    "#Stores them as a list of tuples: (URL, Link Text).\n",
    "file_links = [\n",
    "    (a['href'], a.text.strip()) \n",
    "    for a in download_section \n",
    "    if re.search(r'\\.(xlsx?|csv|xls)$', a['href'], re.IGNORECASE)\n",
    "]\n",
    "\n",
    "# Tries to extract date formats from the URL or filename.\n",
    "# Returns that value so we can sort chronologically.\n",
    "def extract_date_key(text):\n",
    "    match = re.search(r'(\\d{4}[-_]\\d{2})', text)\n",
    "    return match.group(1) if match else text\n",
    "\n",
    "#Sorts all links by extracted date in descending order.\n",
    "file_links.sort(key=lambda x: extract_date_key(x[0]), reverse=True)\n",
    "\n",
    "#Picks the most recent file (first after sorting).\n",
    "#If it’s a relative URL (starts with /), it builds a full URL by prepending the base domain.\n",
    "latest_url_suffix, label = file_links[0]\n",
    "latest_url = f\"https://ohss.dhs.gov{latest_url_suffix}\" if latest_url_suffix.startswith('/') else latest_url_suffix\n",
    "print(\"Latest file URL:\", latest_url)"
   ]
  },
  {
   "cell_type": "code",
   "execution_count": 5,
   "metadata": {},
   "outputs": [],
   "source": [
    "# Download and read the file\n",
    "#Extracts the file extension (e.g., .xlsx, .csv).\n",
    "#Prepares a filename for saving the downloaded file.\n",
    "file_ext = latest_url.split('.')[-1]\n",
    "local_filename = f\"latest_file.{file_ext}\"\n",
    "\n",
    "#Downloads the file from the URL.\n",
    "#If it fails (e.g., 404), raises an error.\n",
    "r = requests.get(latest_url)\n",
    "\n",
    "#Writes the downloaded content to a file locally.\n",
    "with open(local_filename, 'wb') as f:\n",
    "    f.write(r.content)\n",
    "\n",
    "# Depending on the file extension:\n",
    "# Uses pandas.read_excel() for Excel files (requires openpyxl)\n",
    "# Uses pandas.read_csv() for CSV files\n",
    "# Raises an error if it’s some other format\n",
    "if file_ext in ['xlsx', 'xls']:\n",
    "    df = pd.read_excel(local_filename)\n",
    "elif file_ext == 'csv':\n",
    "    df = pd.read_csv(local_filename)\n",
    "else:\n",
    "    raise ValueError(\"Unsupported file format\")"
   ]
  }
 ],
 "metadata": {
  "kernelspec": {
   "display_name": "Python 3",
   "language": "python",
   "name": "python3"
  },
  "language_info": {
   "codemirror_mode": {
    "name": "ipython",
    "version": 3
   },
   "file_extension": ".py",
   "mimetype": "text/x-python",
   "name": "python",
   "nbconvert_exporter": "python",
   "pygments_lexer": "ipython3",
   "version": "3.13.5"
  }
 },
 "nbformat": 4,
 "nbformat_minor": 2
}
